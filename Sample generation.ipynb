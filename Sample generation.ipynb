{
 "cells": [
  {
   "cell_type": "markdown",
   "metadata": {},
   "source": [
    "# Sampling from the generative model "
   ]
  },
  {
   "cell_type": "markdown",
   "metadata": {},
   "source": [
    "In this notebook, we will use the generative model of the HDHP (Hierarchical Dirichlet-Hawkes Process) in order to sample events. We will start with a predifined number of users, say `10`, and we will attempt to model their behavior as they are posting questions in an online platform. For simplicity, our \"vocabulary\" will be dummy."
   ]
  },
  {
   "cell_type": "markdown",
   "metadata": {},
   "source": [
    "We start by importing all the libraries that will be required."
   ]
  },
  {
   "cell_type": "code",
   "execution_count": 1,
   "metadata": {
    "scrolled": true
   },
   "outputs": [
    {
     "name": "stdout",
     "output_type": "stream",
     "text": [
      "aa\n"
     ]
    }
   ],
   "source": [
    "%matplotlib inline\n",
    "import datetime\n",
    "import string\n",
    "import hdhp\n",
    "import notebook_helpers\n",
    "import seaborn as sns"
   ]
  },
  {
   "cell_type": "markdown",
   "metadata": {},
   "source": [
    "Now, let us set some parameters for our model. These fall under two categories; the ones relevant to the content and then ones relevant to the time dynamics. Starting with the first set, we need  to decide on:\n",
    "\n",
    "* the vocabulary: a dummy set of `100` words, i.e. `word0`, `word1`, ... , `word99`.\n",
    "* the minimum and maximum length of a question\n",
    "* the number of words of each pattern\n",
    "\n",
    "As far as the time dynamics is concerned, we need to set:\n",
    "\n",
    "* $\\alpha_0$: the parameters of the Gamma prior for the time kernel of each pattern\n",
    "* $\\mu_0$: the parameters of the Gamma prior for the user activity rate\n",
    "* $\\omega$: the time decay parameter\n",
    "\n",
    "Finally, in order to make the generative process more user-friendly, we can pre-set the number of patterns that our users can sample from."
   ]
  },
  {
   "cell_type": "code",
   "execution_count": 2,
   "metadata": {},
   "outputs": [
    {
     "name": "stdout",
     "output_type": "stream",
     "text": [
      "{0: 0.47024072731095173, 1: 0.3842734324577831, 2: 0.4319450350423422}\n"
     ]
    }
   ],
   "source": [
    "vocabulary = ['word' + str(i) for i in range(100)]  # the `words` of our documents\n",
    "doc_min_length = 5\n",
    "doc_length = 10\n",
    "words_per_pattern = 50\n",
    "\n",
    "alpha_0 = (2.5, 0.75)\n",
    "mu_0 = (2, 0.5)\n",
    "beta_0 = (4, 5)\n",
    "zeta_0 = [500,5,5]\n",
    "omega = 3.5\n",
    "\n",
    "num_global_patterns = 12\n",
    "num_patterns = num_global_patterns\n",
    "num_cluster = 3\n",
    "num_patterns_per_cluster = [20,4,8]\n",
    "process = hdhp.HDHProcess(num_cluster = num_cluster, num_global_patterns = num_global_patterns,\n",
    "                          num_patterns_per_cluster =num_patterns_per_cluster,num_patterns=num_patterns,\n",
    "                        alpha_0=alpha_0,mu_0=mu_0,beta_0 = beta_0, zeta_0= zeta_0,\n",
    "                          vocabulary=vocabulary,\n",
    "                          omega=omega, words_per_pattern=words_per_pattern,\n",
    "                          random_state=12)"
   ]
  },
  {
   "cell_type": "markdown",
   "metadata": {},
   "source": [
    "Before generating any questions, we can take a look at the patterns that we initialized our process with, and look at the content distribution of each pattern. Although each pattern has a different word distribution, we can still plot the overlap (Jaccard similarity) between the words that have non-zero probability for each pattern. Since we used a limited number of patterns, the distribution of the overlap will not be smooth."
   ]
  },
  {
   "cell_type": "code",
   "execution_count": 3,
   "metadata": {},
   "outputs": [],
   "source": [
    "# overlap = notebook_helpers.compute_pattern_overlap(process)\n",
    "# sns.distplot(overlap, kde=True, norm_hist=True, axlabel='Content overlap')"
   ]
  },
  {
   "cell_type": "markdown",
   "metadata": {},
   "source": [
    "Now, the next step is to generate the questions for the users. As we mentioned above, for the purpose of this notebook, we will limit ourselves to a set of `10` users. For each of them, we will sample their questions from the process. We will sample at least `100` and at max `5000` questions per user, and we will make sure that we do not sample for more than `365` time units (assume that 1 time unit = 1 day)."
   ]
  },
  {
   "cell_type": "code",
   "execution_count": 4,
   "metadata": {},
   "outputs": [
    {
     "name": "stdout",
     "output_type": "stream",
     "text": [
      "[0.97281838 0.01528673 0.01189489]\n",
      "(array([0], dtype=int64),)\n",
      "1.0\n",
      "0\n",
      "5001\n",
      "150\n",
      "{0: 3, 1: 3, 2: 3, 3: 3, 4: 0, 5: 3, 6: 3, 7: 3, 8: 1, 9: 3, 10: 5, 11: 3, 12: 1, 13: 11, 14: 3}\n",
      "[0.97281838 0.01528673 0.01189489]\n",
      "(array([0], dtype=int64),)\n",
      "1.0\n",
      "0\n",
      "5001\n",
      "4894\n",
      "{0: 4, 1: 3, 2: 3, 3: 3, 4: 3, 5: 3, 6: 10, 7: 5, 8: 1, 9: 1, 10: 1, 11: 3, 12: 3, 13: 5, 14: 3, 15: 1, 16: 3, 17: 5, 18: 1, 19: 6, 20: 11, 21: 3, 22: 11, 23: 3, 24: 1, 25: 1, 26: 3, 27: 5, 28: 3, 29: 10, 30: 8, 31: 1, 32: 3, 33: 3, 34: 3, 35: 3, 36: 3, 37: 3, 38: 3, 39: 0, 40: 3, 41: 6, 42: 3, 43: 3, 44: 3, 45: 2, 46: 8, 47: 2, 48: 3, 49: 3, 50: 1, 51: 6, 52: 1, 53: 3, 54: 3, 55: 3, 56: 6, 57: 3, 58: 3, 59: 3, 60: 5, 61: 5, 62: 3, 63: 1, 64: 6, 65: 0, 66: 3, 67: 5, 68: 11, 69: 5}\n",
      "[0.97281838 0.01528673 0.01189489]\n",
      "(array([1], dtype=int64),)\n",
      "1.0\n",
      "1\n",
      "5001\n",
      "4956\n",
      "{0: 3, 1: 1, 2: 3, 3: 8, 4: 3, 5: 2, 6: 3, 7: 3, 8: 6, 9: 6, 10: 1, 11: 3, 12: 3, 13: 11, 14: 11, 15: 1, 16: 4, 17: 11, 18: 5, 19: 6}\n",
      "[0.97281838 0.01528673 0.01189489]\n",
      "(array([0], dtype=int64),)\n",
      "1.0\n",
      "0\n",
      "5001\n",
      "4988\n",
      "{0: 8, 1: 3, 2: 6, 3: 3, 4: 3, 5: 11, 6: 1, 7: 1, 8: 3}\n",
      "[0.97281838 0.01528673 0.01189489]\n",
      "(array([0], dtype=int64),)\n",
      "1.0\n",
      "0\n",
      "5001\n",
      "4904\n",
      "{0: 3, 1: 2, 2: 3, 3: 1, 4: 3, 5: 3, 6: 1, 7: 2, 8: 3, 9: 2, 10: 1, 11: 3, 12: 3, 13: 3, 14: 10, 15: 6, 16: 3, 17: 5, 18: 3, 19: 3, 20: 5, 21: 5, 22: 3, 23: 1, 24: 3, 25: 11, 26: 6, 27: 11, 28: 3, 29: 0, 30: 3, 31: 1, 32: 5, 33: 3, 34: 3, 35: 3, 36: 1, 37: 6, 38: 3, 39: 3, 40: 5, 41: 11, 42: 3}\n",
      "[0.97281838 0.01528673 0.01189489]\n",
      "(array([0], dtype=int64),)\n",
      "1.0\n",
      "0\n",
      "5001\n",
      "4922\n",
      "{0: 3, 1: 1, 2: 1, 3: 3, 4: 1, 5: 11, 6: 4, 7: 3, 8: 3, 9: 3, 10: 3, 11: 3, 12: 1, 13: 5, 14: 6, 15: 5, 16: 1, 17: 0, 18: 3, 19: 1, 20: 5, 21: 3, 22: 5, 23: 1, 24: 1, 25: 6, 26: 1, 27: 5, 28: 1, 29: 3, 30: 3, 31: 11, 32: 3, 33: 3, 34: 6, 35: 3, 36: 0, 37: 5}\n",
      "[0.97281838 0.01528673 0.01189489]\n",
      "(array([0], dtype=int64),)\n",
      "1.0\n",
      "0\n",
      "5001\n",
      "80\n",
      "{0: 1, 1: 3, 2: 8, 3: 2, 4: 11, 5: 11, 6: 0, 7: 11, 8: 1, 9: 3, 10: 3, 11: 6, 12: 5, 13: 3, 14: 3, 15: 6, 16: 6, 17: 5}\n",
      "[0.97281838 0.01528673 0.01189489]\n",
      "(array([0], dtype=int64),)\n",
      "1.0\n",
      "0\n",
      "5001\n",
      "4999\n",
      "{0: 6, 1: 3, 2: 3, 3: 3, 4: 11, 5: 11, 6: 5}\n",
      "[0.97281838 0.01528673 0.01189489]\n",
      "(array([1], dtype=int64),)\n",
      "1.0\n",
      "1\n",
      "5001\n",
      "4997\n",
      "{0: 3, 1: 11}\n",
      "[0.97281838 0.01528673 0.01189489]\n",
      "(array([0], dtype=int64),)\n",
      "1.0\n",
      "0\n",
      "5001\n",
      "4996\n",
      "{0: 11, 1: 3, 2: 3, 3: 10}\n"
     ]
    }
   ],
   "source": [
    "process.reset()  # removes any previously generated data\n",
    "for i in range(10):\n",
    "    cluster, events= process.sample_user_events(min_num_events=100, \n",
    "                                  max_num_events=5000,\n",
    "                                  t_max=365)\n",
    "#     print(process.local_pattern_popularity)\n",
    "#     print('Total #events', len(events))\n",
    "#     print(process.level_history_per_user[i].count(True))\n",
    "#     print(\"cluster:\" + str(cluster))"
   ]
  },
  {
   "cell_type": "markdown",
   "metadata": {},
   "source": [
    "We can now review which patterns each user has adopted and check the content distribution of one of these patterns."
   ]
  },
  {
   "cell_type": "code",
   "execution_count": 5,
   "metadata": {},
   "outputs": [
    {
     "ename": "AttributeError",
     "evalue": "'HDHProcess' object has no attribute 'dish_on_table_per_user'",
     "output_type": "error",
     "traceback": [
      "\u001b[1;31m---------------------------------------------------------------------------\u001b[0m",
      "\u001b[1;31mAttributeError\u001b[0m                            Traceback (most recent call last)",
      "\u001b[1;32m<ipython-input-5-c8d51b756f49>\u001b[0m in \u001b[0;36m<module>\u001b[1;34m()\u001b[0m\n\u001b[1;32m----> 1\u001b[1;33m \u001b[0mprint\u001b[0m \u001b[1;33m(\u001b[0m\u001b[0mprocess\u001b[0m\u001b[1;33m.\u001b[0m\u001b[0muser_patterns_set\u001b[0m\u001b[1;33m(\u001b[0m\u001b[0muser\u001b[0m\u001b[1;33m=\u001b[0m\u001b[1;36m0\u001b[0m\u001b[1;33m)\u001b[0m\u001b[1;33m)\u001b[0m\u001b[1;33m\u001b[0m\u001b[0m\n\u001b[0m",
      "\u001b[1;32mF:\\www 2019\\hdhp.py-master\\hdhp.py-master\\examples\\hdhp\\gm_v1.py\u001b[0m in \u001b[0;36muser_patterns_set\u001b[1;34m(self, user)\u001b[0m\n\u001b[0;32m    694\u001b[0m         \"\"\"\n\u001b[0;32m    695\u001b[0m         pattern_list = [self.dish_on_table_per_user[user][table]\n\u001b[1;32m--> 696\u001b[1;33m                         for table in self.table_history_per_user[user]]\n\u001b[0m\u001b[0;32m    697\u001b[0m         \u001b[1;32mreturn\u001b[0m \u001b[0mlist\u001b[0m\u001b[1;33m(\u001b[0m\u001b[0mset\u001b[0m\u001b[1;33m(\u001b[0m\u001b[0mpattern_list\u001b[0m\u001b[1;33m)\u001b[0m\u001b[1;33m)\u001b[0m\u001b[1;33m\u001b[0m\u001b[0m\n\u001b[0;32m    698\u001b[0m \u001b[1;33m\u001b[0m\u001b[0m\n",
      "\u001b[1;32mF:\\www 2019\\hdhp.py-master\\hdhp.py-master\\examples\\hdhp\\gm_v1.py\u001b[0m in \u001b[0;36m<listcomp>\u001b[1;34m(.0)\u001b[0m\n\u001b[0;32m    694\u001b[0m         \"\"\"\n\u001b[0;32m    695\u001b[0m         pattern_list = [self.dish_on_table_per_user[user][table]\n\u001b[1;32m--> 696\u001b[1;33m                         for table in self.table_history_per_user[user]]\n\u001b[0m\u001b[0;32m    697\u001b[0m         \u001b[1;32mreturn\u001b[0m \u001b[0mlist\u001b[0m\u001b[1;33m(\u001b[0m\u001b[0mset\u001b[0m\u001b[1;33m(\u001b[0m\u001b[0mpattern_list\u001b[0m\u001b[1;33m)\u001b[0m\u001b[1;33m)\u001b[0m\u001b[1;33m\u001b[0m\u001b[0m\n\u001b[0;32m    698\u001b[0m \u001b[1;33m\u001b[0m\u001b[0m\n",
      "\u001b[1;31mAttributeError\u001b[0m: 'HDHProcess' object has no attribute 'dish_on_table_per_user'"
     ]
    }
   ],
   "source": [
    "print (process.user_patterns_set(user=0))"
   ]
  },
  {
   "cell_type": "code",
   "execution_count": null,
   "metadata": {},
   "outputs": [],
   "source": [
    "print (process.user_pattern_history_str(user=0, patterns=[0, 1],show_time=True))"
   ]
  },
  {
   "cell_type": "code",
   "execution_count": null,
   "metadata": {},
   "outputs": [],
   "source": [
    "print (process.pattern_content_str(patterns=[0, 1],\n",
    "                                  show_words=10))"
   ]
  },
  {
   "cell_type": "markdown",
   "metadata": {},
   "source": [
    "The last step is to plot the intensity (the rate at which each user asks questions) for each user and each pattern. Below, the plots share the same $y$-axis, so that the user intensities are comparable. Each color corresponds to a single pattern. We will also manually set the \"beginning of time\" at an arbitrary date."
   ]
  },
  {
   "cell_type": "code",
   "execution_count": null,
   "metadata": {},
   "outputs": [],
   "source": [
    "start_date = datetime.datetime(2015, 9, 15)\n",
    "fig = process.plot(start_date=start_date, user_limit=5,\n",
    "                   num_samples=5000, time_unit='days',\n",
    "                   label_every=1, seed=5)\n",
    "fig.show()"
   ]
  },
  {
   "cell_type": "code",
   "execution_count": null,
   "metadata": {},
   "outputs": [],
   "source": []
  },
  {
   "cell_type": "code",
   "execution_count": null,
   "metadata": {},
   "outputs": [],
   "source": []
  },
  {
   "cell_type": "code",
   "execution_count": null,
   "metadata": {},
   "outputs": [],
   "source": []
  }
 ],
 "metadata": {
  "kernelspec": {
   "display_name": "Python 3",
   "language": "python",
   "name": "python3"
  },
  "language_info": {
   "codemirror_mode": {
    "name": "ipython",
    "version": 3
   },
   "file_extension": ".py",
   "mimetype": "text/x-python",
   "name": "python",
   "nbconvert_exporter": "python",
   "pygments_lexer": "ipython3",
   "version": "3.7.0"
  }
 },
 "nbformat": 4,
 "nbformat_minor": 1
}
